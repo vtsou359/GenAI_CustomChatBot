{
 "cells": [
  {
   "cell_type": "code",
   "id": "initial_id",
   "metadata": {
    "collapsed": true,
    "ExecuteTime": {
     "end_time": "2025-03-09T20:23:16.460492Z",
     "start_time": "2025-03-09T20:23:16.439668Z"
    }
   },
   "source": [
    "import numpy as np\n",
    "import pandas as pd\n",
    "from scipy import spatial\n",
    "import os\n",
    "import re\n",
    "import json\n",
    "from pathlib import Path\n",
    "from dotenv import load_dotenv\n",
    "import openai\n",
    "import tiktoken\n",
    "\n",
    "# Custom Functions\n",
    "from fncs.utilities import (\n",
    "    create_openai_client,\n",
    "    response_generator,\n",
    "    prompt_builder,\n",
    "    calculate_total_cost\n",
    "    )\n",
    "from fncs.retrieval import (\n",
    "    get_embedding,\n",
    "    search_text,\n",
    "    control_chunk_context\n",
    "    )\n",
    "\n",
    "# Load environment vars:\n",
    "load_dotenv()\n",
    "base_url_voc = os.getenv(\"OPENAI_BASE_VOC\")\n",
    "api_key_voc = os.getenv(\"OPENAI_API_VOC\")\n",
    "# Deployment model names\n",
    "chat_name = 'gpt-4o-mini'\n",
    "emb_name = 'text-embedding-3-small'\n",
    "# Initialising OpenAI client\n",
    "openai_client = create_openai_client(api_key= api_key_voc, base_url= base_url_voc)\n",
    "tokenizer = tiktoken.encoding_for_model(\"gpt-4o-mini\")"
   ],
   "outputs": [],
   "execution_count": 27
  },
  {
   "metadata": {},
   "cell_type": "markdown",
   "source": "### Loading dataset",
   "id": "aa1832c099f587ea"
  },
  {
   "metadata": {
    "ExecuteTime": {
     "end_time": "2025-03-09T20:18:48.537111Z",
     "start_time": "2025-03-09T20:18:48.491210Z"
    }
   },
   "cell_type": "code",
   "source": [
    "proj_dir = Path(os.getcwd())\n",
    "df = pd.read_csv(proj_dir / \"data\" / \"2023_fashion_trends_embeddings.csv\")\n",
    "df.head(3)"
   ],
   "id": "9233858f77e0c6bb",
   "outputs": [
    {
     "data": {
      "text/plain": [
       "                                                text  \\\n",
       "0  Title: 7 Fashion Trends That Will Take Over 20...   \n",
       "1  Title: 7 Fashion Trends That Will Take Over 20...   \n",
       "2  Title: 7 Fashion Trends That Will Take Over 20...   \n",
       "\n",
       "                                          embeddings  \n",
       "0  [-0.0008604738395661116, 0.02634955383837223, ...  \n",
       "1  [0.01805400848388672, 0.049275610595941544, 0....  \n",
       "2  [0.0642574205994606, 0.023316336795687675, -0....  "
      ],
      "text/html": [
       "<div>\n",
       "<style scoped>\n",
       "    .dataframe tbody tr th:only-of-type {\n",
       "        vertical-align: middle;\n",
       "    }\n",
       "\n",
       "    .dataframe tbody tr th {\n",
       "        vertical-align: top;\n",
       "    }\n",
       "\n",
       "    .dataframe thead th {\n",
       "        text-align: right;\n",
       "    }\n",
       "</style>\n",
       "<table border=\"1\" class=\"dataframe\">\n",
       "  <thead>\n",
       "    <tr style=\"text-align: right;\">\n",
       "      <th></th>\n",
       "      <th>text</th>\n",
       "      <th>embeddings</th>\n",
       "    </tr>\n",
       "  </thead>\n",
       "  <tbody>\n",
       "    <tr>\n",
       "      <th>0</th>\n",
       "      <td>Title: 7 Fashion Trends That Will Take Over 20...</td>\n",
       "      <td>[-0.0008604738395661116, 0.02634955383837223, ...</td>\n",
       "    </tr>\n",
       "    <tr>\n",
       "      <th>1</th>\n",
       "      <td>Title: 7 Fashion Trends That Will Take Over 20...</td>\n",
       "      <td>[0.01805400848388672, 0.049275610595941544, 0....</td>\n",
       "    </tr>\n",
       "    <tr>\n",
       "      <th>2</th>\n",
       "      <td>Title: 7 Fashion Trends That Will Take Over 20...</td>\n",
       "      <td>[0.0642574205994606, 0.023316336795687675, -0....</td>\n",
       "    </tr>\n",
       "  </tbody>\n",
       "</table>\n",
       "</div>"
      ]
     },
     "execution_count": 18,
     "metadata": {},
     "output_type": "execute_result"
    }
   ],
   "execution_count": 18
  },
  {
   "metadata": {},
   "cell_type": "markdown",
   "source": "The embeddings are stored as text/string in the DataFrame and need to be converted to lists/arrays",
   "id": "dfb834f8176e49a0"
  },
  {
   "metadata": {
    "ExecuteTime": {
     "end_time": "2025-03-09T20:19:14.259389Z",
     "start_time": "2025-03-09T20:19:13.764036Z"
    }
   },
   "cell_type": "code",
   "source": [
    "import ast\n",
    "# Converting the string representations of embeddings to actual lists\n",
    "df['embeddings'] = df['embeddings'].apply(lambda x: ast.literal_eval(x) if isinstance(x, str) else x)"
   ],
   "id": "72f7af3db628d262",
   "outputs": [],
   "execution_count": 19
  },
  {
   "metadata": {},
   "cell_type": "markdown",
   "source": "Checking transformation",
   "id": "ea2d89ae8d023bd1"
  },
  {
   "metadata": {
    "ExecuteTime": {
     "end_time": "2025-03-09T20:20:11.252715Z",
     "start_time": "2025-03-09T20:20:11.247016Z"
    }
   },
   "cell_type": "code",
   "source": "type(df[['embeddings']].iloc[0].values[0])",
   "id": "7d4c69ab4591f282",
   "outputs": [
    {
     "data": {
      "text/plain": [
       "list"
      ]
     },
     "execution_count": 23,
     "metadata": {},
     "output_type": "execute_result"
    }
   ],
   "execution_count": 23
  },
  {
   "metadata": {},
   "cell_type": "markdown",
   "source": "### Calculating Cosine Distances based on query",
   "id": "16b223bc1c9826e2"
  },
  {
   "metadata": {
    "ExecuteTime": {
     "end_time": "2025-03-09T20:20:36.749722Z",
     "start_time": "2025-03-09T20:20:34.476469Z"
    }
   },
   "cell_type": "code",
   "source": [
    "query = \"What is the most popular fashion trend about pants in 2023?\"\n",
    "query_emb = get_embedding(text=query, client = openai_client, model=emb_name)"
   ],
   "id": "54410f634493630e",
   "outputs": [],
   "execution_count": 24
  },
  {
   "metadata": {
    "ExecuteTime": {
     "end_time": "2025-03-09T20:20:38.919115Z",
     "start_time": "2025-03-09T20:20:38.876761Z"
    }
   },
   "cell_type": "code",
   "source": "df_sorted = search_text(df=df, embs_query=query_emb, cosine='distance')",
   "id": "651fdb4f27f1ee03",
   "outputs": [],
   "execution_count": 25
  },
  {
   "metadata": {
    "ExecuteTime": {
     "end_time": "2025-03-09T20:20:40.798022Z",
     "start_time": "2025-03-09T20:20:40.777640Z"
    }
   },
   "cell_type": "code",
   "source": "df_sorted",
   "id": "9c4e84a9dd56756e",
   "outputs": [
    {
     "data": {
      "text/plain": [
       "                                                 text  \\\n",
       "1   Title: 7 Fashion Trends That Will Take Over 20...   \n",
       "58  Title: Spring/Summer 2023 Fashion Trends: 21 E...   \n",
       "3   Title: 7 Fashion Trends That Will Take Over 20...   \n",
       "44  Title: Spring/Summer 2023 Fashion Trends: 21 E...   \n",
       "5   Title: 7 Fashion Trends That Will Take Over 20...   \n",
       "..                                                ...   \n",
       "28  Title: These Are the Spring 2023 Trends Vogue ...   \n",
       "78  Title: Spring/Summer 2023 Fashion Trends: 21 E...   \n",
       "34  Title: These Are the Spring 2023 Trends Vogue ...   \n",
       "27  Title: These Are the Spring 2023 Trends Vogue ...   \n",
       "26  Title: These Are the Spring 2023 Trends Vogue ...   \n",
       "\n",
       "                                           embeddings  distance  \n",
       "1   [0.01805400848388672, 0.049275610595941544, 0....  0.328703  \n",
       "58  [0.03040272183716297, 0.039167024195194244, 0....  0.386368  \n",
       "3   [0.030550595372915268, 0.04003358259797096, -0...  0.406843  \n",
       "44  [0.022972876206040382, 0.05934659391641617, 0....  0.409787  \n",
       "5   [0.01975318044424057, 0.05273978039622307, 0.0...  0.427201  \n",
       "..                                                ...       ...  \n",
       "28  [0.021780189126729965, 0.024652592837810516, 0...  0.637589  \n",
       "78  [0.034109439700841904, -0.016433794051408768, ...  0.640354  \n",
       "34  [0.05425485223531723, 0.03444666042923927, -0....  0.641840  \n",
       "27  [0.031974636018276215, 0.0020109834149479866, ...  0.643273  \n",
       "26  [0.03932611644268036, 0.017460891976952553, 0....  0.643333  \n",
       "\n",
       "[82 rows x 3 columns]"
      ],
      "text/html": [
       "<div>\n",
       "<style scoped>\n",
       "    .dataframe tbody tr th:only-of-type {\n",
       "        vertical-align: middle;\n",
       "    }\n",
       "\n",
       "    .dataframe tbody tr th {\n",
       "        vertical-align: top;\n",
       "    }\n",
       "\n",
       "    .dataframe thead th {\n",
       "        text-align: right;\n",
       "    }\n",
       "</style>\n",
       "<table border=\"1\" class=\"dataframe\">\n",
       "  <thead>\n",
       "    <tr style=\"text-align: right;\">\n",
       "      <th></th>\n",
       "      <th>text</th>\n",
       "      <th>embeddings</th>\n",
       "      <th>distance</th>\n",
       "    </tr>\n",
       "  </thead>\n",
       "  <tbody>\n",
       "    <tr>\n",
       "      <th>1</th>\n",
       "      <td>Title: 7 Fashion Trends That Will Take Over 20...</td>\n",
       "      <td>[0.01805400848388672, 0.049275610595941544, 0....</td>\n",
       "      <td>0.328703</td>\n",
       "    </tr>\n",
       "    <tr>\n",
       "      <th>58</th>\n",
       "      <td>Title: Spring/Summer 2023 Fashion Trends: 21 E...</td>\n",
       "      <td>[0.03040272183716297, 0.039167024195194244, 0....</td>\n",
       "      <td>0.386368</td>\n",
       "    </tr>\n",
       "    <tr>\n",
       "      <th>3</th>\n",
       "      <td>Title: 7 Fashion Trends That Will Take Over 20...</td>\n",
       "      <td>[0.030550595372915268, 0.04003358259797096, -0...</td>\n",
       "      <td>0.406843</td>\n",
       "    </tr>\n",
       "    <tr>\n",
       "      <th>44</th>\n",
       "      <td>Title: Spring/Summer 2023 Fashion Trends: 21 E...</td>\n",
       "      <td>[0.022972876206040382, 0.05934659391641617, 0....</td>\n",
       "      <td>0.409787</td>\n",
       "    </tr>\n",
       "    <tr>\n",
       "      <th>5</th>\n",
       "      <td>Title: 7 Fashion Trends That Will Take Over 20...</td>\n",
       "      <td>[0.01975318044424057, 0.05273978039622307, 0.0...</td>\n",
       "      <td>0.427201</td>\n",
       "    </tr>\n",
       "    <tr>\n",
       "      <th>...</th>\n",
       "      <td>...</td>\n",
       "      <td>...</td>\n",
       "      <td>...</td>\n",
       "    </tr>\n",
       "    <tr>\n",
       "      <th>28</th>\n",
       "      <td>Title: These Are the Spring 2023 Trends Vogue ...</td>\n",
       "      <td>[0.021780189126729965, 0.024652592837810516, 0...</td>\n",
       "      <td>0.637589</td>\n",
       "    </tr>\n",
       "    <tr>\n",
       "      <th>78</th>\n",
       "      <td>Title: Spring/Summer 2023 Fashion Trends: 21 E...</td>\n",
       "      <td>[0.034109439700841904, -0.016433794051408768, ...</td>\n",
       "      <td>0.640354</td>\n",
       "    </tr>\n",
       "    <tr>\n",
       "      <th>34</th>\n",
       "      <td>Title: These Are the Spring 2023 Trends Vogue ...</td>\n",
       "      <td>[0.05425485223531723, 0.03444666042923927, -0....</td>\n",
       "      <td>0.641840</td>\n",
       "    </tr>\n",
       "    <tr>\n",
       "      <th>27</th>\n",
       "      <td>Title: These Are the Spring 2023 Trends Vogue ...</td>\n",
       "      <td>[0.031974636018276215, 0.0020109834149479866, ...</td>\n",
       "      <td>0.643273</td>\n",
       "    </tr>\n",
       "    <tr>\n",
       "      <th>26</th>\n",
       "      <td>Title: These Are the Spring 2023 Trends Vogue ...</td>\n",
       "      <td>[0.03932611644268036, 0.017460891976952553, 0....</td>\n",
       "      <td>0.643333</td>\n",
       "    </tr>\n",
       "  </tbody>\n",
       "</table>\n",
       "<p>82 rows × 3 columns</p>\n",
       "</div>"
      ]
     },
     "execution_count": 26,
     "metadata": {},
     "output_type": "execute_result"
    }
   ],
   "execution_count": 26
  },
  {
   "metadata": {},
   "cell_type": "markdown",
   "source": "### Prompt Template",
   "id": "97638c85ae6d747d"
  },
  {
   "metadata": {
    "ExecuteTime": {
     "end_time": "2025-03-09T20:26:00.723710Z",
     "start_time": "2025-03-09T20:26:00.719687Z"
    }
   },
   "cell_type": "code",
   "source": [
    "system_prompt = \"You are an expert fashion trend analyser. Based only on the provided information you must analyse and summarise the trends and provide an accurate answer.\"\n",
    "\n",
    "print(f\"System Prompt Tokens: {len(tokenizer.encode(system_prompt))}\")"
   ],
   "id": "16608bc3cc579ba2",
   "outputs": [
    {
     "name": "stdout",
     "output_type": "stream",
     "text": [
      "System Prompt Tokens: 28\n"
     ]
    }
   ],
   "execution_count": 30
  },
  {
   "metadata": {
    "ExecuteTime": {
     "end_time": "2025-03-09T20:33:16.683908Z",
     "start_time": "2025-03-09T20:33:16.680120Z"
    }
   },
   "cell_type": "code",
   "source": [
    "user_prompt = \\\n",
    "\"\"\" Answer the question: {}\n",
    "---Based only on the provided information---\n",
    "{}\n",
    "\"\"\"\n",
    "\n",
    "print(f\"User Prompt Tokens BEFORE context insertion: {len(tokenizer.encode(user_prompt))}\")"
   ],
   "id": "a7e0ae6b5740e850",
   "outputs": [
    {
     "name": "stdout",
     "output_type": "stream",
     "text": [
      "User Prompt Tokens BEFORE context insertion: 14\n"
     ]
    }
   ],
   "execution_count": 41
  },
  {
   "metadata": {},
   "cell_type": "markdown",
   "source": "#### Apply token controller function ( fnc: control_chunk_context )",
   "id": "3649988fc071c9bb"
  },
  {
   "metadata": {
    "ExecuteTime": {
     "end_time": "2025-03-09T20:33:18.012038Z",
     "start_time": "2025-03-09T20:33:18.009172Z"
    }
   },
   "cell_type": "code",
   "source": [
    "#parameter that control the prompt tokens:\n",
    "max_token_count = 1000"
   ],
   "id": "22322f84eb10bf97",
   "outputs": [],
   "execution_count": 42
  },
  {
   "metadata": {
    "ExecuteTime": {
     "end_time": "2025-03-09T20:33:18.505785Z",
     "start_time": "2025-03-09T20:33:18.500088Z"
    }
   },
   "cell_type": "code",
   "source": [
    "current_token_count = len(tokenizer.encode(user_prompt)) + len(tokenizer.encode(system_prompt))\n",
    "# Create context from sorted dataframe according to the max token limit\n",
    "context = control_chunk_context(\n",
    "    df_sorted,\n",
    "    current_token_count,\n",
    "    max_token_count,\n",
    "    tokenizer = tokenizer\n",
    ")"
   ],
   "id": "ff7b5de9fb7ce93e",
   "outputs": [],
   "execution_count": 43
  },
  {
   "metadata": {
    "ExecuteTime": {
     "end_time": "2025-03-09T20:34:56.908231Z",
     "start_time": "2025-03-09T20:34:56.904159Z"
    }
   },
   "cell_type": "code",
   "source": [
    "# prompt template params\n",
    "context_inprompt = \"\\n----\\n\".join(context)\n",
    "\n",
    "user_prompt = user_prompt.format(query, context_inprompt)\n",
    "print(user_prompt)"
   ],
   "id": "8987fcd4455e42bc",
   "outputs": [
    {
     "name": "stdout",
     "output_type": "stream",
     "text": [
      " Answer the question: What is the most popular fashion trend about pants in 2023?\n",
      "---Based only on the provided information---\n",
      "Title: 7 Fashion Trends That Will Take Over 2023 — Shop Them Now\n",
      "\n",
      "2023 Fashion Trend: Cargo Pants. Utilitarian wear is in for 2023, which sets the stage for the return of the cargo pant. But these aren't the shapeless, low-rise pants of the Y2K era. For spring, this trend is translated into tailored silhouettes, interesting pocket placements, elevated fabrics like silk and organza, and colors that go beyond khaki and olive.\n",
      "\n",
      "Source URL: www.refinery29.com\n",
      "\n",
      "----\n",
      "Title: Spring/Summer 2023 Fashion Trends: 21 Expert-Approved Looks You Need to See\n",
      "\n",
      "Every buyer I have spoken to has been most excited by the many pairs of perfectly cut trousers in the spring/summer 2023 collections, which actually should hardly come as a surprise. It's been the year of the trouser after all, and that looks set to continue as designers have become more and more playful with their pants. From pedal pushers to wide-leg, cargos to puddle hemlines, the gang's all here, and just in the nick of time. \n",
      "\n",
      "Source URL: www.whowhatwear.com\n",
      "\n",
      "----\n",
      "Title: 7 Fashion Trends That Will Take Over 2023 — Shop Them Now\n",
      "\n",
      "2023 Fashion Trend: Denim Reimagined. From double-waisted jeans to carpenter jeans, it's been a while since we were this excited about denim trends. It seems like even the most luxe runway designers agree, sending out strapless dresses, shirting, and even undergarments and shoes (thigh-high-boot-jean hybrids anyone?) in the material. Whatever category you decide on, opt for timeless cuts and silhouettes that can stay in your closet rotation once the novelty wears off.\n",
      "\n",
      "Source URL: www.refinery29.com\n",
      "\n",
      "----\n",
      "Title: Spring/Summer 2023 Fashion Trends: 21 Expert-Approved Looks You Need to See\n",
      "\n",
      "I get it. Some of the trends on this list might not translate seamlessly into everyday life (if you're prepared to wear a completely sheer skirt to run errands in, more power to you). However, if you're looking to invest in something you'll genuinely get the wear of, look no further. Between wide-legs and puddle hemlines, slouchy-fit trousers were one of the biggest trends of 2022. Now, for spring 2023, the best jeans will feature these same design traits. From high-waisted dark-wash flares at Tibi to Bally's effortless double-denim moment complete with floor-grazing lengths, looser-fit denim is resolutely where it's at.\n",
      "\n",
      "Source URL: www.whowhatwear.com\n",
      "\n",
      "----\n",
      "Title: 7 Fashion Trends That Will Take Over 2023 — Shop Them Now\n",
      "\n",
      "2023 Fashion Trend: Maxi Skirts. In response to the ultra unpractical mini skirts of 2022, maxi skirts are here to dominate the year. In line with the aforementioned cargo and denim trends, expect lots of low-rise, pocket-adorned silhouettes and floor-grazing jean skirts, as well as styles in various prints and unexpected materials like velvet. Long live long hemlines!\n",
      "\n",
      "Source URL: www.refinery29.com\n",
      "\n",
      "----\n",
      "Title: 9 Spring 2023 Fashion Trends You’ll Want to Try ASAP\n",
      "\n",
      "Baggy Denim. Denim remains just as baggy this season as it has been—if not even looser than before. A great light-wash pair of jeans has virtually endless styling potential; take a cue from Bottega Veneta and pair yours with a worn-in flannel or play with denim-on-denim à la Bally. \n",
      "\n",
      "Source URL: www.glamour.com\n",
      "\n",
      "----\n",
      "Title: Spring/Summer 2023 Fashion Trends: 21 Expert-Approved Looks You Need to See\n",
      "\n",
      "\"It's no surprise that a post-lockdown world is leaning towards more relaxed silhouettes, especially when it comes to our denim choices. I spend a lot of my days on social media (for work, naturally), and the jeans styles that I'm seeing across TikTok, Instagram and Pinterest are so relaxed they might as well be joggers. As the world's number one fan of wide-leg trousers, I'm so happy that the grip skinny jeans had on us is finally over. Now, for the real stuff—this denim style can feel quite daunting if you're new to it. Me? I'll be taking styling cues from the master of jeans himself, Asake. IYKYK. And if you don't, you're in for a treat when you Google 'Asake jeans',\" says Joy Ejaria, social media editor at Who What Wear UK. \n",
      "\n",
      "Source URL: www.whowhatwear.com\n",
      "\n",
      "\n"
     ]
    }
   ],
   "execution_count": 46
  },
  {
   "metadata": {
    "ExecuteTime": {
     "end_time": "2025-03-09T20:35:03.612066Z",
     "start_time": "2025-03-09T20:35:03.607082Z"
    }
   },
   "cell_type": "code",
   "source": "print(f\"User Prompt Tokens AFTER context insertion: {len(tokenizer.encode(user_prompt))}\")",
   "id": "684eb7487a4e49ae",
   "outputs": [
    {
     "name": "stdout",
     "output_type": "stream",
     "text": [
      "User Prompt Tokens AFTER context insertion: 971\n"
     ]
    }
   ],
   "execution_count": 47
  },
  {
   "metadata": {
    "ExecuteTime": {
     "end_time": "2025-03-09T20:38:50.165688Z",
     "start_time": "2025-03-09T20:38:46.488405Z"
    }
   },
   "cell_type": "code",
   "source": [
    "final_prompt = prompt_builder(system_content= system_prompt, user_content_prompt= user_prompt)\n",
    "\n",
    "additional_options = \\\n",
    "            {\n",
    "                \"temperature\": 0,\n",
    "            }\n",
    "\n",
    "response, response_full = response_generator(openai_client, chat_model=chat_name, prompts=final_prompt, options=additional_options)\n",
    "\n",
    "cost_eur = calculate_total_cost(response_usage= response_full.usage,\n",
    "                                deployment_name= chat_name)"
   ],
   "id": "61a47f0eda0f0944",
   "outputs": [],
   "execution_count": 48
  },
  {
   "metadata": {
    "ExecuteTime": {
     "end_time": "2025-03-09T20:38:55.328564Z",
     "start_time": "2025-03-09T20:38:55.323866Z"
    }
   },
   "cell_type": "code",
   "source": "response",
   "id": "834e12f3fc4d6430",
   "outputs": [
    {
     "data": {
      "text/plain": [
       "'In 2023, the most popular fashion trend regarding pants is the resurgence of cargo pants, characterized by tailored silhouettes and innovative pocket placements, moving away from the traditional low-rise styles of the Y2K era. This trend is part of a broader utilitarian wear movement that emphasizes functionality and style. Additionally, there is a significant focus on various trouser styles, including wide-leg and slouchy fits, which reflect a shift towards more relaxed silhouettes in response to post-lockdown preferences. Denim also plays a crucial role, with baggy and loose-fitting styles gaining popularity, indicating a departure from skinny jeans. Overall, the trends highlight a blend of practicality and comfort, with an emphasis on versatile and stylish designs.'"
      ]
     },
     "execution_count": 49,
     "metadata": {},
     "output_type": "execute_result"
    }
   ],
   "execution_count": 49
  },
  {
   "metadata": {
    "ExecuteTime": {
     "end_time": "2025-03-09T20:41:21.966132Z",
     "start_time": "2025-03-09T20:41:21.961935Z"
    }
   },
   "cell_type": "code",
   "source": "cost_eur",
   "id": "6ee92090ef368673",
   "outputs": [
    {
     "data": {
      "text/plain": [
       "0.0002511431"
      ]
     },
     "execution_count": 50,
     "metadata": {},
     "output_type": "execute_result"
    }
   ],
   "execution_count": 50
  },
  {
   "metadata": {
    "ExecuteTime": {
     "end_time": "2025-03-09T20:42:31.551169Z",
     "start_time": "2025-03-09T20:42:31.544908Z"
    }
   },
   "cell_type": "code",
   "source": "response_full",
   "id": "83efedf17ce7c862",
   "outputs": [
    {
     "data": {
      "text/plain": [
       "ChatCompletion(id='chatcmpl-B9Hi4a4PTrgaN5ibLOsOxz6Eq57fd', choices=[Choice(finish_reason='stop', index=0, logprobs=None, message=ChatCompletionMessage(content='In 2023, the most popular fashion trend regarding pants is the resurgence of cargo pants, characterized by tailored silhouettes and innovative pocket placements, moving away from the traditional low-rise styles of the Y2K era. This trend is part of a broader utilitarian wear movement that emphasizes functionality and style. Additionally, there is a significant focus on various trouser styles, including wide-leg and slouchy fits, which reflect a shift towards more relaxed silhouettes in response to post-lockdown preferences. Denim also plays a crucial role, with baggy and loose-fitting styles gaining popularity, indicating a departure from skinny jeans. Overall, the trends highlight a blend of practicality and comfort, with an emphasis on versatile and stylish designs.', refusal=None, role='assistant', audio=None, function_call=None, tool_calls=None))], created=1741552728, model='gpt-4o-mini-2024-07-18', object='chat.completion', service_tier='default', system_fingerprint='fp_06737a9306', usage=CompletionUsage(completion_tokens=144, prompt_tokens=1010, total_tokens=1154, completion_tokens_details=CompletionTokensDetails(accepted_prediction_tokens=0, audio_tokens=0, reasoning_tokens=0, rejected_prediction_tokens=0), prompt_tokens_details=PromptTokensDetails(audio_tokens=0, cached_tokens=0)))"
      ]
     },
     "execution_count": 51,
     "metadata": {},
     "output_type": "execute_result"
    }
   ],
   "execution_count": 51
  },
  {
   "metadata": {},
   "cell_type": "markdown",
   "source": "### Demonstrating Performance",
   "id": "7514793b17a761c7"
  },
  {
   "metadata": {},
   "cell_type": "code",
   "outputs": [],
   "execution_count": null,
   "source": "",
   "id": "d004f15b2a27f0e5"
  }
 ],
 "metadata": {
  "kernelspec": {
   "display_name": "Python 3",
   "language": "python",
   "name": "python3"
  },
  "language_info": {
   "codemirror_mode": {
    "name": "ipython",
    "version": 2
   },
   "file_extension": ".py",
   "mimetype": "text/x-python",
   "name": "python",
   "nbconvert_exporter": "python",
   "pygments_lexer": "ipython2",
   "version": "2.7.6"
  }
 },
 "nbformat": 4,
 "nbformat_minor": 5
}
