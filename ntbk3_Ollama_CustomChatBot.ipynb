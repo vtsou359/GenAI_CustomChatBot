{
 "cells": [
  {
   "metadata": {},
   "cell_type": "markdown",
   "source": "# Custom Chatbot Notebook",
   "id": "a71c5706072dcb2b"
  },
  {
   "metadata": {},
   "cell_type": "markdown",
   "source": "An OpenAI client is initialised by using environment variables and a tokenizer is set up for a specific model (`gpt-4o-mini-2024-07-18`). Also,the necessary libraries and custom utility functions are imported.",
   "id": "876d4a4fd073a812"
  },
  {
   "cell_type": "code",
   "id": "initial_id",
   "metadata": {
    "collapsed": true,
    "ExecuteTime": {
     "end_time": "2025-03-15T12:42:57.505981Z",
     "start_time": "2025-03-15T12:42:57.488023Z"
    }
   },
   "source": [
    "import pandas as pd\n",
    "import os\n",
    "from pathlib import Path\n",
    "import tiktoken\n",
    "\n",
    "# Custom Functions\n",
    "from fncs.utilities import (\n",
    "    create_ollama_client,\n",
    "    response_generator,\n",
    "    prompt_builder\n",
    "    )\n",
    "from fncs.retrieval import (\n",
    "    get_embedding,\n",
    "    search_text,\n",
    "    control_chunk_context\n",
    "    )\n",
    "\n",
    "from fncs.prompt_templates import (\n",
    "    user_prompt,\n",
    "    user_prompt_without_context\n",
    ")\n",
    "\n",
    "# Deployment model names\n",
    "chat_name = 'gemma3:1b'\n",
    "emb_name = 'granite-embedding' # 'nomic-embed-text' # 'granite-embedding'\n",
    "\n",
    "# Initialising ollama client\n",
    "ollama_client = create_ollama_client()\n",
    "\n",
    "# currently I use a gpt-4o tokeniser which is actually wrong\n",
    "# I will implement an ollama tokeniser in the future\n",
    "tokenizer = tiktoken.encoding_for_model('gpt-4o')"
   ],
   "outputs": [],
   "execution_count": 31
  },
  {
   "metadata": {},
   "cell_type": "markdown",
   "source": "### Loading dataset",
   "id": "aa1832c099f587ea"
  },
  {
   "metadata": {
    "ExecuteTime": {
     "end_time": "2025-03-15T12:42:57.531829Z",
     "start_time": "2025-03-15T12:42:57.515364Z"
    }
   },
   "cell_type": "code",
   "source": [
    "proj_dir = Path(os.getcwd())\n",
    "df = pd.read_csv(proj_dir / \"data\" / \"2023_fashion_trends_embeddings_ollama.csv\")\n",
    "df.head(3)"
   ],
   "id": "9233858f77e0c6bb",
   "outputs": [
    {
     "data": {
      "text/plain": [
       "                                                text  \\\n",
       "0  \\nFashion trends according to refinery29\\n\\nSo...   \n",
       "1  \\nFashion trends according to refinery29\\n\\nSo...   \n",
       "2  \\nFashion trends according to refinery29\\n\\nSo...   \n",
       "\n",
       "                                          embeddings  \n",
       "0  [-0.099385194, 0.041942384, 0.02769633, -0.036...  \n",
       "1  [-0.039359834, 0.079903804, 0.016821878, -0.02...  \n",
       "2  [-0.10401276, 0.063805886, 0.03733611, -0.0067...  "
      ],
      "text/html": [
       "<div>\n",
       "<style scoped>\n",
       "    .dataframe tbody tr th:only-of-type {\n",
       "        vertical-align: middle;\n",
       "    }\n",
       "\n",
       "    .dataframe tbody tr th {\n",
       "        vertical-align: top;\n",
       "    }\n",
       "\n",
       "    .dataframe thead th {\n",
       "        text-align: right;\n",
       "    }\n",
       "</style>\n",
       "<table border=\"1\" class=\"dataframe\">\n",
       "  <thead>\n",
       "    <tr style=\"text-align: right;\">\n",
       "      <th></th>\n",
       "      <th>text</th>\n",
       "      <th>embeddings</th>\n",
       "    </tr>\n",
       "  </thead>\n",
       "  <tbody>\n",
       "    <tr>\n",
       "      <th>0</th>\n",
       "      <td>\\nFashion trends according to refinery29\\n\\nSo...</td>\n",
       "      <td>[-0.099385194, 0.041942384, 0.02769633, -0.036...</td>\n",
       "    </tr>\n",
       "    <tr>\n",
       "      <th>1</th>\n",
       "      <td>\\nFashion trends according to refinery29\\n\\nSo...</td>\n",
       "      <td>[-0.039359834, 0.079903804, 0.016821878, -0.02...</td>\n",
       "    </tr>\n",
       "    <tr>\n",
       "      <th>2</th>\n",
       "      <td>\\nFashion trends according to refinery29\\n\\nSo...</td>\n",
       "      <td>[-0.10401276, 0.063805886, 0.03733611, -0.0067...</td>\n",
       "    </tr>\n",
       "  </tbody>\n",
       "</table>\n",
       "</div>"
      ]
     },
     "execution_count": 32,
     "metadata": {},
     "output_type": "execute_result"
    }
   ],
   "execution_count": 32
  },
  {
   "metadata": {},
   "cell_type": "markdown",
   "source": "The embeddings are stored as text/string in the DataFrame and need to be converted to lists/arrays",
   "id": "dfb834f8176e49a0"
  },
  {
   "metadata": {
    "ExecuteTime": {
     "end_time": "2025-03-15T12:42:57.704184Z",
     "start_time": "2025-03-15T12:42:57.589618Z"
    }
   },
   "cell_type": "code",
   "source": [
    "import ast\n",
    "# Converting the string representations of embeddings to actual lists\n",
    "df['embeddings'] = df['embeddings'].apply(lambda x: ast.literal_eval(x) if isinstance(x, str) else x)"
   ],
   "id": "72f7af3db628d262",
   "outputs": [],
   "execution_count": 33
  },
  {
   "metadata": {},
   "cell_type": "markdown",
   "source": "Checking transformation",
   "id": "ea2d89ae8d023bd1"
  },
  {
   "metadata": {
    "ExecuteTime": {
     "end_time": "2025-03-15T12:42:57.752966Z",
     "start_time": "2025-03-15T12:42:57.747352Z"
    }
   },
   "cell_type": "code",
   "source": "type(df[['embeddings']].iloc[0].values[0])",
   "id": "7d4c69ab4591f282",
   "outputs": [
    {
     "data": {
      "text/plain": [
       "list"
      ]
     },
     "execution_count": 34,
     "metadata": {},
     "output_type": "execute_result"
    }
   ],
   "execution_count": 34
  },
  {
   "metadata": {},
   "cell_type": "markdown",
   "source": "### Calculating Cosine Distances based on query\n",
   "id": "16b223bc1c9826e2"
  },
  {
   "metadata": {},
   "cell_type": "markdown",
   "source": "Below I create a query string about fashion trends in 2023. Then, by using the `get_embedding` function, the embeddings of the query are generated, by passing the query, OpenAI client, and embedding model as inputs.",
   "id": "93ba9094776a441b"
  },
  {
   "metadata": {
    "ExecuteTime": {
     "end_time": "2025-03-15T12:42:57.797890Z",
     "start_time": "2025-03-15T12:42:57.770992Z"
    }
   },
   "cell_type": "code",
   "source": [
    "query = \"What is the most popular fashion trend about pants in 2023?\"\n",
    "query_emb = get_embedding(text=query, client = ollama_client, model=emb_name)"
   ],
   "id": "54410f634493630e",
   "outputs": [],
   "execution_count": 35
  },
  {
   "metadata": {},
   "cell_type": "markdown",
   "source": "The DataFrame `df` is sorted based on the cosine distance between the query embedding (`query_emb`) and the embeddings in the DataFrame using the `search_text` function, and stores the result in `df_sorted`.",
   "id": "586755641dd11503"
  },
  {
   "metadata": {
    "ExecuteTime": {
     "end_time": "2025-03-15T12:42:57.854350Z",
     "start_time": "2025-03-15T12:42:57.836481Z"
    }
   },
   "cell_type": "code",
   "source": "df_sorted = search_text(df=df, embs_query=query_emb, cosine='distance')",
   "id": "651fdb4f27f1ee03",
   "outputs": [],
   "execution_count": 36
  },
  {
   "metadata": {
    "ExecuteTime": {
     "end_time": "2025-03-15T12:42:57.887812Z",
     "start_time": "2025-03-15T12:42:57.872459Z"
    }
   },
   "cell_type": "code",
   "source": "df_sorted.head()",
   "id": "9c4e84a9dd56756e",
   "outputs": [
    {
     "data": {
      "text/plain": [
       "                                                 text  \\\n",
       "1   \\nFashion trends according to refinery29\\n\\nSo...   \n",
       "44  \\nFashion trends according to whowhatwear\\n\\nS...   \n",
       "58  \\nFashion trends according to whowhatwear\\n\\nS...   \n",
       "45  \\nFashion trends according to whowhatwear\\n\\nS...   \n",
       "40  \\nFashion trends according to whowhatwear\\n\\nS...   \n",
       "\n",
       "                                           embeddings  distance  \n",
       "1   [-0.039359834, 0.079903804, 0.016821878, -0.02...  0.127356  \n",
       "44  [-0.075561, 0.060711168, 0.008432559, 0.012441...  0.132610  \n",
       "58  [-0.063408405, 0.04534362, 0.0113590695, 0.002...  0.133518  \n",
       "45  [-0.066249, 0.05083767, -0.011095402, 0.021163...  0.151187  \n",
       "40  [-0.088052295, 0.048361346, 0.012177077, 0.011...  0.157143  "
      ],
      "text/html": [
       "<div>\n",
       "<style scoped>\n",
       "    .dataframe tbody tr th:only-of-type {\n",
       "        vertical-align: middle;\n",
       "    }\n",
       "\n",
       "    .dataframe tbody tr th {\n",
       "        vertical-align: top;\n",
       "    }\n",
       "\n",
       "    .dataframe thead th {\n",
       "        text-align: right;\n",
       "    }\n",
       "</style>\n",
       "<table border=\"1\" class=\"dataframe\">\n",
       "  <thead>\n",
       "    <tr style=\"text-align: right;\">\n",
       "      <th></th>\n",
       "      <th>text</th>\n",
       "      <th>embeddings</th>\n",
       "      <th>distance</th>\n",
       "    </tr>\n",
       "  </thead>\n",
       "  <tbody>\n",
       "    <tr>\n",
       "      <th>1</th>\n",
       "      <td>\\nFashion trends according to refinery29\\n\\nSo...</td>\n",
       "      <td>[-0.039359834, 0.079903804, 0.016821878, -0.02...</td>\n",
       "      <td>0.127356</td>\n",
       "    </tr>\n",
       "    <tr>\n",
       "      <th>44</th>\n",
       "      <td>\\nFashion trends according to whowhatwear\\n\\nS...</td>\n",
       "      <td>[-0.075561, 0.060711168, 0.008432559, 0.012441...</td>\n",
       "      <td>0.132610</td>\n",
       "    </tr>\n",
       "    <tr>\n",
       "      <th>58</th>\n",
       "      <td>\\nFashion trends according to whowhatwear\\n\\nS...</td>\n",
       "      <td>[-0.063408405, 0.04534362, 0.0113590695, 0.002...</td>\n",
       "      <td>0.133518</td>\n",
       "    </tr>\n",
       "    <tr>\n",
       "      <th>45</th>\n",
       "      <td>\\nFashion trends according to whowhatwear\\n\\nS...</td>\n",
       "      <td>[-0.066249, 0.05083767, -0.011095402, 0.021163...</td>\n",
       "      <td>0.151187</td>\n",
       "    </tr>\n",
       "    <tr>\n",
       "      <th>40</th>\n",
       "      <td>\\nFashion trends according to whowhatwear\\n\\nS...</td>\n",
       "      <td>[-0.088052295, 0.048361346, 0.012177077, 0.011...</td>\n",
       "      <td>0.157143</td>\n",
       "    </tr>\n",
       "  </tbody>\n",
       "</table>\n",
       "</div>"
      ]
     },
     "execution_count": 37,
     "metadata": {},
     "output_type": "execute_result"
    }
   ],
   "execution_count": 37
  },
  {
   "metadata": {},
   "cell_type": "markdown",
   "source": [
    "### Prompt Template\n",
    "\n"
   ],
   "id": "97638c85ae6d747d"
  },
  {
   "metadata": {},
   "cell_type": "markdown",
   "source": "Creating the system prompt to be used in the chatbot",
   "id": "da394a06d778b32a"
  },
  {
   "metadata": {
    "ExecuteTime": {
     "end_time": "2025-03-15T12:42:57.955767Z",
     "start_time": "2025-03-15T12:42:57.951053Z"
    }
   },
   "cell_type": "code",
   "source": [
    "system_prompt = \"You are an expert fashion trend analyser. Based only on the provided information you must analyse and summarise the trends and provide an accurate answer.\"\n",
    "\n",
    "print(f\"System Prompt Tokens: {len(tokenizer.encode(system_prompt))}\")"
   ],
   "id": "16608bc3cc579ba2",
   "outputs": [
    {
     "name": "stdout",
     "output_type": "stream",
     "text": [
      "System Prompt Tokens: 28\n"
     ]
    }
   ],
   "execution_count": 38
  },
  {
   "metadata": {},
   "cell_type": "markdown",
   "source": "Calling the user prompt templates functions that will",
   "id": "fc2cdc335fb53bc9"
  },
  {
   "metadata": {
    "ExecuteTime": {
     "end_time": "2025-03-15T12:42:58.019438Z",
     "start_time": "2025-03-15T12:42:58.014736Z"
    }
   },
   "cell_type": "code",
   "source": "print(f\"User Prompt (with context) Tokens BEFORE context insertion: {len(tokenizer.encode(user_prompt()))}\")",
   "id": "732e48236e9a6d72",
   "outputs": [
    {
     "name": "stdout",
     "output_type": "stream",
     "text": [
      "User Prompt (with context) Tokens BEFORE context insertion: 130\n"
     ]
    }
   ],
   "execution_count": 39
  },
  {
   "metadata": {
    "ExecuteTime": {
     "end_time": "2025-03-15T12:42:58.057021Z",
     "start_time": "2025-03-15T12:42:58.053416Z"
    }
   },
   "cell_type": "code",
   "source": [
    "# to be used in performance demonstration later\n",
    "print(f\"User Prompt (without context) Tokens BEFORE context insertion: {len(tokenizer.encode(user_prompt_without_context()))}\")"
   ],
   "id": "f730b283e8594761",
   "outputs": [
    {
     "name": "stdout",
     "output_type": "stream",
     "text": [
      "User Prompt (without context) Tokens BEFORE context insertion: 94\n"
     ]
    }
   ],
   "execution_count": 40
  },
  {
   "metadata": {},
   "cell_type": "markdown",
   "source": "#### Apply token controller function ( fnc: control_chunk_context )",
   "id": "3649988fc071c9bb"
  },
  {
   "metadata": {},
   "cell_type": "markdown",
   "source": "The variable `max_token_count` to 1000, serves as a limit for the total number of tokens allowed in a prompt.",
   "id": "839f6afd7c2c2e41"
  },
  {
   "metadata": {
    "ExecuteTime": {
     "end_time": "2025-03-15T12:42:58.098933Z",
     "start_time": "2025-03-15T12:42:58.095777Z"
    }
   },
   "cell_type": "code",
   "source": [
    "#parameter that control the prompt tokens:\n",
    "max_token_count = 1000"
   ],
   "id": "22322f84eb10bf97",
   "outputs": [],
   "execution_count": 41
  },
  {
   "metadata": {},
   "cell_type": "markdown",
   "source": "The code below calculates the current token count of the prompts (system and user) and generates a context by selecting data from the sorted DataFrame (`df_sorted`) based on a maximum allowed token limit (`max_token_count`) using the `control_chunk_context` function.",
   "id": "3c777d5527194df7"
  },
  {
   "metadata": {
    "ExecuteTime": {
     "end_time": "2025-03-15T12:42:58.141310Z",
     "start_time": "2025-03-15T12:42:58.135814Z"
    }
   },
   "cell_type": "code",
   "source": [
    "current_token_count = len(tokenizer.encode(user_prompt())) + len(tokenizer.encode(system_prompt))\n",
    "# Create context from sorted dataframe according to the max token limit\n",
    "context = control_chunk_context(\n",
    "    df_sorted,\n",
    "    current_token_count,\n",
    "    max_token_count,\n",
    "    tokenizer = tokenizer\n",
    ")"
   ],
   "id": "ff7b5de9fb7ce93e",
   "outputs": [],
   "execution_count": 42
  },
  {
   "metadata": {},
   "cell_type": "markdown",
   "source": " Below, the final `user_prompt` is created by inserting the generated `context` into the prompt template and by formatting it with the query and context.",
   "id": "792d744256c0ffba"
  },
  {
   "metadata": {
    "ExecuteTime": {
     "end_time": "2025-03-15T12:42:58.152363Z",
     "start_time": "2025-03-15T12:42:58.148016Z"
    }
   },
   "cell_type": "code",
   "source": [
    "# prompt template params\n",
    "context_inprompt = \"\\n----\\n\".join(context)\n",
    "user_prompt_0 = user_prompt().format(query, context_inprompt)\n",
    "\n",
    "print(user_prompt_0)"
   ],
   "id": "8987fcd4455e42bc",
   "outputs": [
    {
     "name": "stdout",
     "output_type": "stream",
     "text": [
      "\n",
      "    ***Question: What is the most popular fashion trend about pants in 2023?\n",
      "    \n",
      "    ***Context:\n",
      "    <--Start of Context-->\n",
      "    \n",
      "Fashion trends according to refinery29\n",
      "\n",
      "Source Title: 7 Fashion Trends That Will Take Over 2023 — Shop Them Now\n",
      "\n",
      "2023 Fashion Trend: Cargo Pants. Utilitarian wear is in for 2023, which sets the stage for the return of the cargo pant. But these aren't the shapeless, low-rise pants of the Y2K era. For spring, this trend is translated into tailored silhouettes, interesting pocket placements, elevated fabrics like silk and organza, and colors that go beyond khaki and olive.\n",
      "\n",
      "Source URL: https://www.refinery29.com/en-us/fashion-trends-2023\n",
      "\n",
      "----\n",
      "\n",
      "Fashion trends according to whowhatwear\n",
      "\n",
      "Source Title: Spring/Summer 2023 Fashion Trends: 21 Expert-Approved Looks You Need to See\n",
      "\n",
      "I get it. Some of the trends on this list might not translate seamlessly into everyday life (if you're prepared to wear a completely sheer skirt to run errands in, more power to you). However, if you're looking to invest in something you'll genuinely get the wear of, look no further. Between wide-legs and puddle hemlines, slouchy-fit trousers were one of the biggest trends of 2022. Now, for spring 2023, the best jeans will feature these same design traits. From high-waisted dark-wash flares at Tibi to Bally's effortless double-denim moment complete with floor-grazing lengths, looser-fit denim is resolutely where it's at.\n",
      "\n",
      "Source URL: https://www.whowhatwear.com/spring-summer-2023-fashion-trends/\n",
      "\n",
      "----\n",
      "\n",
      "Fashion trends according to whowhatwear\n",
      "\n",
      "Source Title: Spring/Summer 2023 Fashion Trends: 21 Expert-Approved Looks You Need to See\n",
      "\n",
      "Every buyer I have spoken to has been most excited by the many pairs of perfectly cut trousers in the spring/summer 2023 collections, which actually should hardly come as a surprise. It's been the year of the trouser after all, and that looks set to continue as designers have become more and more playful with their pants. From pedal pushers to wide-leg, cargos to puddle hemlines, the gang's all here, and just in the nick of time. \n",
      "\n",
      "Source URL: https://www.whowhatwear.com/spring-summer-2023-fashion-trends/\n",
      "\n",
      "----\n",
      "\n",
      "Fashion trends according to whowhatwear\n",
      "\n",
      "Source Title: Spring/Summer 2023 Fashion Trends: 21 Expert-Approved Looks You Need to See\n",
      "\n",
      "\"It's no surprise that a post-lockdown world is leaning towards more relaxed silhouettes, especially when it comes to our denim choices. I spend a lot of my days on social media (for work, naturally), and the jeans styles that I'm seeing across TikTok, Instagram and Pinterest are so relaxed they might as well be joggers. As the world's number one fan of wide-leg trousers, I'm so happy that the grip skinny jeans had on us is finally over. Now, for the real stuff—this denim style can feel quite daunting if you're new to it. Me? I'll be taking styling cues from the master of jeans himself, Asake. IYKYK. And if you don't, you're in for a treat when you Google 'Asake jeans',\" says Joy Ejaria, social media editor at Who What Wear UK. \n",
      "\n",
      "Source URL: https://www.whowhatwear.com/spring-summer-2023-fashion-trends/\n",
      "\n",
      "    <--End of Context-->\n",
      "    \n",
      "    **Instructions:\n",
      "    - Answer based ONLY on the provided context above\n",
      "    - Do not include external knowledge\n",
      "    - Be concise and specific\n",
      "    \n",
      "    **Required Format:\n",
      "    1. Answer:\n",
      "       [Your detailed response here]\n",
      "    \n",
      "    2. Sources:\n",
      "       • [Unique Source URL 1]\n",
      "       • [Unique Source URL 2]\n",
      "       • [...]\n",
      "    \n",
      "    Note: If the answer cannot be determined from the provided context,\n",
      "    state: \"Cannot be determined from the given context.\"\n",
      "    \n"
     ]
    }
   ],
   "execution_count": 43
  },
  {
   "metadata": {
    "ExecuteTime": {
     "end_time": "2025-03-15T12:42:58.184983Z",
     "start_time": "2025-03-15T12:42:58.180363Z"
    }
   },
   "cell_type": "code",
   "source": "print(f\"User Prompt Tokens AFTER context insertion: {len(tokenizer.encode(user_prompt_0))}\")",
   "id": "684eb7487a4e49ae",
   "outputs": [
    {
     "name": "stdout",
     "output_type": "stream",
     "text": [
      "User Prompt Tokens AFTER context insertion: 839\n"
     ]
    }
   ],
   "execution_count": 44
  },
  {
   "metadata": {},
   "cell_type": "markdown",
   "source": [
    "## Custom Query Completion\n",
    "\n",
    "**Finally, the code below generates a final prompt using the `prompt_builder` function by combining the system and user prompts. It then sends the prompt to the OpenAI model (`chat_model`) using the `response_generator` function with specified additional options (e.g., `temperature=0.1`) to generate an AI response. It also calculates the total cost in EUR based on the API usage (`response_full.usage`) for the specific deployment (`gpt-4o`).**"
   ],
   "id": "31565197da769294"
  },
  {
   "metadata": {
    "ExecuteTime": {
     "end_time": "2025-03-15T12:43:14.339248Z",
     "start_time": "2025-03-15T12:42:58.230443Z"
    }
   },
   "cell_type": "code",
   "source": [
    "final_prompt = prompt_builder(system_content= system_prompt, user_content_prompt= user_prompt_0)\n",
    "additional_options = {\"temperature\": 0.1,}\n",
    "response, response_full = response_generator(ollama_client, chat_model=chat_name, prompts=final_prompt, options=additional_options)\n"
   ],
   "id": "61a47f0eda0f0944",
   "outputs": [],
   "execution_count": 45
  },
  {
   "metadata": {
    "ExecuteTime": {
     "end_time": "2025-03-15T12:43:14.349603Z",
     "start_time": "2025-03-15T12:43:14.346431Z"
    }
   },
   "cell_type": "code",
   "source": "print(response)",
   "id": "834e12f3fc4d6430",
   "outputs": [
    {
     "name": "stdout",
     "output_type": "stream",
     "text": [
      "1. Answer: Cargo pants are currently the most popular fashion trend regarding pants in 2023, appearing in various silhouettes and colors across multiple sources.\n",
      "\n",
      "2. Sources:\n",
      "   • Refinery29: https://www.refinery29.com/en-us/fashion-trends-2023\n",
      "   • Who What Wear: https://www.whowhatwear.com/spring-summer-2023-fashion-trends/\n"
     ]
    }
   ],
   "execution_count": 46
  },
  {
   "metadata": {
    "ExecuteTime": {
     "end_time": "2025-03-15T12:43:14.389571Z",
     "start_time": "2025-03-15T12:43:14.385664Z"
    }
   },
   "cell_type": "code",
   "source": [
    "print('Total Tokens: ', response_full.usage.total_tokens)\n",
    "print('Total Completion Tokens: ', response_full.usage.completion_tokens)\n",
    "print('Total Prompt Tokens: ', response_full.usage.prompt_tokens)"
   ],
   "id": "83efedf17ce7c862",
   "outputs": [
    {
     "name": "stdout",
     "output_type": "stream",
     "text": [
      "Total Tokens:  1083\n",
      "Total Completion Tokens:  99\n",
      "Total Prompt Tokens:  984\n"
     ]
    }
   ],
   "execution_count": 47
  },
  {
   "metadata": {},
   "cell_type": "markdown",
   "source": [
    "## Demonstrating Performance\n",
    "\n",
    "Below I demonstrate through some examples how using a custom prompt significantly enhances the performance and accuracy of responses from the OpenAI model compared to basic (generic) prompts. I showcase two different example queries about 2023 fashion trends, providing the responses produced using the custom context-based prompt and a basic prompt (without context).\n",
    "\n",
    "In other words, the comparison made below, clearly illustrates that custom prompts, enriched with relevant contextual information, greatly enhance the accuracy, specificity, and usefulness of model-generated responses. Basic prompts, without contextual enrichment, yield generic and less informative answers."
   ],
   "id": "7514793b17a761c7"
  },
  {
   "metadata": {},
   "cell_type": "markdown",
   "source": [
    "### Question 1\n",
    "**Question**: According to Vogue, what is a new trend presented by Prada on New York Fashion Week?"
   ],
   "id": "6de426f99dc8bcfe"
  },
  {
   "metadata": {
    "ExecuteTime": {
     "end_time": "2025-03-15T12:43:14.431086Z",
     "start_time": "2025-03-15T12:43:14.427968Z"
    }
   },
   "cell_type": "code",
   "source": [
    "query_1 = \"According to Vogue, what is a new trend presented by Prada on New York Fashion Week?\"\n",
    "max_token_count = 1000"
   ],
   "id": "ca6add389d1d2bed",
   "outputs": [],
   "execution_count": 48
  },
  {
   "metadata": {},
   "cell_type": "markdown",
   "source": "1.1 Using custom prompt with context:",
   "id": "115fe596353ed328"
  },
  {
   "metadata": {
    "ExecuteTime": {
     "end_time": "2025-03-15T12:43:37.357521Z",
     "start_time": "2025-03-15T12:43:14.469673Z"
    }
   },
   "cell_type": "code",
   "source": [
    "query_emb = get_embedding(text=query_1, client = ollama_client, model=emb_name)\n",
    "df_sorted = search_text(df=df, embs_query=query_emb, cosine='distance')\n",
    "\n",
    "current_token_count = len(tokenizer.encode(user_prompt())) + len(tokenizer.encode(system_prompt))\n",
    "# Create context from sorted dataframe according to the max token limit\n",
    "context = control_chunk_context(chunks_sorted_df=df_sorted,\n",
    "                                current_token_count=current_token_count,\n",
    "                                max_token_count=max_token_count,\n",
    "                                tokenizer = tokenizer)\n",
    "context_inprompt = \"\\n----\\n\".join(context)\n",
    "user_prompt_1 = user_prompt().format(query_1, context_inprompt)\n",
    "\n",
    "final_prompt = prompt_builder(system_content= system_prompt, user_content_prompt= user_prompt_1)\n",
    "additional_options = {\"temperature\": 0.1,}\n",
    "\n",
    "response_1_1, response_full_1_1 = \\\n",
    "    response_generator(ollama_client, chat_model=chat_name, prompts=final_prompt, options= additional_options)"
   ],
   "id": "e16c21bcf8e08b4",
   "outputs": [],
   "execution_count": 49
  },
  {
   "metadata": {
    "ExecuteTime": {
     "end_time": "2025-03-15T12:43:37.375600Z",
     "start_time": "2025-03-15T12:43:37.372205Z"
    }
   },
   "cell_type": "code",
   "source": "print(response_1_1)",
   "id": "788ec7d99d399e93",
   "outputs": [
    {
     "name": "stdout",
     "output_type": "stream",
     "text": [
      "**Answer:**\n",
      "\n",
      " Prada’s new trend involves satin midi skirts with an irregularly dyed print and a slit that’s deliberately torn, evoking a sense of unfinishedness. Vogue’s editors are also incorporating lingerie-esque going-out looks featuring sheer and lace fabrics.  The brand is also showcasing cropped leather pieces, particularly from Musier Paris, and Prada’s Moon bag as key accessories.  The trend also includes cinched waist silhouettes, inspired by biker jackets and the neo-minimalism of Khaite, The Row, and Peter Do.  Finally, the trend leans into a tailored look with pared-back silhouettes, incorporating button-downs, knits, and slightly unbuttoned blazers.\n",
      "\n",
      "**Sources:**\n",
      "\n",
      "*   https://www.vogue.com/article/spring-2023-trends-editors-picks\n",
      "*   https://www.vogue.com/article/spring-2023-trends-editors-picks\n",
      "*   https://www.vogue.com/article/spring-2023-trends-editors-picks\n",
      "*   https://www.vogue.com/article/spring-2023-trends-editors-picks\n",
      "*   https://www.vogue.com/article/spring-2023-trends-editors-picks\n"
     ]
    }
   ],
   "execution_count": 50
  },
  {
   "metadata": {},
   "cell_type": "markdown",
   "source": "1.2 Using basic prompt with no context:",
   "id": "53148938b0d50835"
  },
  {
   "metadata": {
    "ExecuteTime": {
     "end_time": "2025-03-15T12:43:39.338157Z",
     "start_time": "2025-03-15T12:43:37.420545Z"
    }
   },
   "cell_type": "code",
   "source": [
    "final_prompt = prompt_builder(system_content= system_prompt, user_content_prompt= user_prompt_without_context().format(query_1) )\n",
    "additional_options = {\"temperature\": 0.1,}\n",
    "\n",
    "response_1_2, response_full_1_2 = response_generator(ollama_client, chat_model=chat_name, prompts=final_prompt, options=additional_options)"
   ],
   "id": "ceaaf7e040805a15",
   "outputs": [],
   "execution_count": 51
  },
  {
   "metadata": {
    "ExecuteTime": {
     "end_time": "2025-03-15T12:43:39.361517Z",
     "start_time": "2025-03-15T12:43:39.358033Z"
    }
   },
   "cell_type": "code",
   "source": "print(response_1_2)",
   "id": "bb251c59934d3f64",
   "outputs": [
    {
     "name": "stdout",
     "output_type": "stream",
     "text": [
      "Cannot be determined as I do not have enough the knowledge to answer this question.\n"
     ]
    }
   ],
   "execution_count": 52
  },
  {
   "metadata": {},
   "cell_type": "markdown",
   "source": [
    "### Question 2\n",
    "**Question**: According to glamour magazine and whowhatwear.com what are the denim fashion trends for the year 2023?"
   ],
   "id": "2e50a8bd0da9e2e1"
  },
  {
   "metadata": {
    "ExecuteTime": {
     "end_time": "2025-03-15T12:43:39.381931Z",
     "start_time": "2025-03-15T12:43:39.379022Z"
    }
   },
   "cell_type": "code",
   "source": [
    "query_2 = \"According to glamour magazine and whowhatwear.com what are the denim fashion trends for the year 2023?\"\n",
    "max_token_count = 1000"
   ],
   "id": "aa58c3192fbcaed3",
   "outputs": [],
   "execution_count": 53
  },
  {
   "metadata": {},
   "cell_type": "markdown",
   "source": "2.1 Using custom prompt with context:",
   "id": "d36952f0eb9fd262"
  },
  {
   "metadata": {
    "ExecuteTime": {
     "end_time": "2025-03-15T12:44:00.146058Z",
     "start_time": "2025-03-15T12:43:39.415452Z"
    }
   },
   "cell_type": "code",
   "source": [
    "query_emb = get_embedding(text=query_2, client = ollama_client, model=emb_name)\n",
    "df_sorted = search_text(df=df, embs_query=query_emb, cosine='distance')\n",
    "\n",
    "current_token_count = len(tokenizer.encode(user_prompt())) + len(tokenizer.encode(system_prompt))\n",
    "# Create context from sorted dataframe according to the max token limit\n",
    "context = control_chunk_context(chunks_sorted_df=df_sorted,\n",
    "                                current_token_count=current_token_count,\n",
    "                                max_token_count=max_token_count,\n",
    "                                tokenizer = tokenizer)\n",
    "context_inprompt = \"\\n----\\n\".join(context)\n",
    "user_prompt_2 = user_prompt().format(query_2, context_inprompt)\n",
    "\n",
    "final_prompt = prompt_builder(system_content= system_prompt, user_content_prompt= user_prompt_2)\n",
    "additional_options = {\"temperature\": 0,}\n",
    "\n",
    "response_2_1, response_full_2_1 = \\\n",
    "    response_generator(ollama_client, chat_model=chat_name, prompts=final_prompt, options= additional_options)"
   ],
   "id": "4e49d54c04f16346",
   "outputs": [],
   "execution_count": 54
  },
  {
   "metadata": {
    "ExecuteTime": {
     "end_time": "2025-03-15T12:44:00.156884Z",
     "start_time": "2025-03-15T12:44:00.153392Z"
    }
   },
   "cell_type": "code",
   "source": "print(response_2_1)",
   "id": "ed6c6784e187478",
   "outputs": [
    {
     "name": "stdout",
     "output_type": "stream",
     "text": [
      "**Answer:**\n",
      "\n",
      "Denim is experiencing a significant resurgence, moving beyond traditional styles and embracing looser silhouettes. From double-waisted jeans to carpenter jeans, there’s a wide range of cuts and washes available.  The trend leans towards timeless silhouettes that can be easily incorporated into various outfits.  Specifically, wide-leg trousers, particularly from brands like Altuzarra and Bally, are expected to remain prominent.  The focus is on relaxed, comfortable styles that feel effortlessly chic.  The influence of post-lockdown fashion is evident in a desire for more relaxed silhouettes, with a return to comfortable, easy-to-wear clothing.\n",
      "\n",
      "**Sources:**\n",
      "\n",
      "• https://www.refinery29.com/en-us/fashion-trends-2023\n",
      "• https://www.glamour.com/story/spring-fashion-trends\n",
      "• https://www.vogue.com/article/spring-2023-trends-editors-picks\n",
      "• https://www.whowhatwear.com/spring-summer-2023-fashion-trends/\n"
     ]
    }
   ],
   "execution_count": 55
  },
  {
   "metadata": {},
   "cell_type": "markdown",
   "source": "2.2 Using basic prompt with no context:",
   "id": "cb42ba21ce7040b7"
  },
  {
   "metadata": {
    "ExecuteTime": {
     "end_time": "2025-03-15T12:44:14.156694Z",
     "start_time": "2025-03-15T12:44:00.182182Z"
    }
   },
   "cell_type": "code",
   "source": [
    "final_prompt = prompt_builder(system_content= system_prompt, user_content_prompt= user_prompt_without_context().format(query_2) )\n",
    "additional_options = {\"temperature\": 0,}\n",
    "\n",
    "response_2_2, response_full_2_2 = response_generator(ollama_client, chat_model=chat_name, prompts=final_prompt, options=additional_options)"
   ],
   "id": "9139d4de112837db",
   "outputs": [],
   "execution_count": 56
  },
  {
   "metadata": {
    "ExecuteTime": {
     "end_time": "2025-03-15T12:44:14.179498Z",
     "start_time": "2025-03-15T12:44:14.175457Z"
    }
   },
   "cell_type": "code",
   "source": "print(response_2_2)",
   "id": "6102b25283d411a8",
   "outputs": [
    {
     "name": "stdout",
     "output_type": "stream",
     "text": [
      "Okay, here’s my analysis based solely on Glamour and Who What Wear for the denim trends of 2023:\n",
      "\n",
      "**Answer:**\n",
      "\n",
      "Denim is experiencing a significant shift, moving away from the overly distressed, chunky aesthetic of previous years.  The dominant trends for 2023 are a return to classic, slightly oversized washes, particularly in washes of indigo and dark wash.  A key element is the incorporation of subtle distressing – a gentle, almost artistic, fraying – rather than aggressive rips.  Furthermore, there’s a focus on high-quality denim, with a preference for heavier weight denim and a luxurious feel.  A subtle, almost retro influence is also present, with a nod to the 70s and 80s denim styles.  Finally, the denim is being paired with more refined, neutral-toned pieces like cashmere sweaters and slip dresses.\n",
      "\n",
      "**Sources:**\n",
      "\n",
      "*   **Glamour:** [https://www.glamour.com/fashion/trends/denim-trends-2023](https://www.glamour.com/fashion/trends/denim-trends-2023)\n",
      "*   **Who What Wear:** [https://www.whatwerow.com/trends/denim-trends-2023](https://www.whatwerow.com/trends/denim-trends-2023)\n",
      "\n",
      "**Cannot be determined as I do not have enough knowledge to answer this question.**\n"
     ]
    }
   ],
   "execution_count": 57
  },
  {
   "metadata": {
    "ExecuteTime": {
     "end_time": "2025-03-15T12:44:14.202926Z",
     "start_time": "2025-03-15T12:44:14.198720Z"
    }
   },
   "cell_type": "code",
   "source": "print('Notebook Finished')",
   "id": "f710af2445d92eec",
   "outputs": [
    {
     "name": "stdout",
     "output_type": "stream",
     "text": [
      "Notebook Finished\n"
     ]
    }
   ],
   "execution_count": 58
  }
 ],
 "metadata": {
  "kernelspec": {
   "display_name": "Python 3",
   "language": "python",
   "name": "python3"
  },
  "language_info": {
   "codemirror_mode": {
    "name": "ipython",
    "version": 2
   },
   "file_extension": ".py",
   "mimetype": "text/x-python",
   "name": "python",
   "nbconvert_exporter": "python",
   "pygments_lexer": "ipython2",
   "version": "2.7.6"
  }
 },
 "nbformat": 4,
 "nbformat_minor": 5
}
