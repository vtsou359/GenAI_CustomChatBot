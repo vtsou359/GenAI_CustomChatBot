{
 "cells": [
  {
   "metadata": {},
   "cell_type": "markdown",
   "source": [
    "# Data Wrangling\n",
    "### Dataset: 2023 Fashion Trends"
   ],
   "id": "df691aacbbc59245"
  },
  {
   "metadata": {},
   "cell_type": "markdown",
   "source": "Initial Imports",
   "id": "f868908355ab552b"
  },
  {
   "cell_type": "code",
   "id": "initial_id",
   "metadata": {
    "collapsed": true,
    "ExecuteTime": {
     "end_time": "2025-03-09T19:07:43.100521Z",
     "start_time": "2025-03-09T19:07:37.651718Z"
    }
   },
   "source": [
    "import pandas as pd\n",
    "from pathlib import Path\n",
    "import os\n",
    "\n",
    "from dotenv import load_dotenv\n",
    "load_dotenv()\n",
    "\n",
    "# Custom Functions\n",
    "from fncs.utilities import (create_openai_client,\n",
    "                            response_generator,\n",
    "                            prompt_builder,\n",
    "                            calculate_total_cost\n",
    "                            )\n",
    "from fncs.retrieval import create_embeddings_batch\n",
    "\n",
    "# Load environment vars:\n",
    "base_url_voc = os.getenv(\"OPENAI_BASE_VOC\")\n",
    "api_key_voc = os.getenv(\"OPENAI_API_VOC\")\n",
    "\n",
    "emb_name = 'text-embedding-3-small'\n",
    "\n",
    "openai_client = create_openai_client(api_key= api_key_voc, base_url= base_url_voc)"
   ],
   "outputs": [],
   "execution_count": 48
  },
  {
   "metadata": {},
   "cell_type": "markdown",
   "source": "Getting the project path:",
   "id": "ba4ea7c293c440c2"
  },
  {
   "metadata": {
    "ExecuteTime": {
     "end_time": "2025-03-09T18:33:14.112280Z",
     "start_time": "2025-03-09T18:33:14.108061Z"
    }
   },
   "cell_type": "code",
   "source": "proj_dir = Path(os.getcwd())",
   "id": "301a711199a3f0ca",
   "outputs": [],
   "execution_count": 9
  },
  {
   "metadata": {},
   "cell_type": "markdown",
   "source": "Reading csv file:",
   "id": "200f468f7cda7a2"
  },
  {
   "metadata": {
    "ExecuteTime": {
     "end_time": "2025-03-09T18:39:22.599652Z",
     "start_time": "2025-03-09T18:39:22.594483Z"
    }
   },
   "cell_type": "code",
   "source": "df = pd.read_csv(proj_dir / \"data\" / \"2023_fashion_trends.csv\")",
   "id": "8129cc6879efd559",
   "outputs": [],
   "execution_count": 23
  },
  {
   "metadata": {
    "ExecuteTime": {
     "end_time": "2025-03-09T18:39:22.988488Z",
     "start_time": "2025-03-09T18:39:22.981386Z"
    }
   },
   "cell_type": "code",
   "source": "df.head()",
   "id": "fa7abdcec594684e",
   "outputs": [
    {
     "data": {
      "text/plain": [
       "                                                 URL  \\\n",
       "0  https://www.refinery29.com/en-us/fashion-trend...   \n",
       "1  https://www.refinery29.com/en-us/fashion-trend...   \n",
       "2  https://www.refinery29.com/en-us/fashion-trend...   \n",
       "3  https://www.refinery29.com/en-us/fashion-trend...   \n",
       "4  https://www.refinery29.com/en-us/fashion-trend...   \n",
       "\n",
       "                                              Trends  \\\n",
       "0  2023 Fashion Trend: Red. Glossy red hues took ...   \n",
       "1  2023 Fashion Trend: Cargo Pants. Utilitarian w...   \n",
       "2  2023 Fashion Trend: Sheer Clothing. \"Bare it a...   \n",
       "3  2023 Fashion Trend: Denim Reimagined. From dou...   \n",
       "4  2023 Fashion Trend: Shine For The Daytime. The...   \n",
       "\n",
       "                                              Source  \n",
       "0  7 Fashion Trends That Will Take Over 2023 — Sh...  \n",
       "1  7 Fashion Trends That Will Take Over 2023 — Sh...  \n",
       "2  7 Fashion Trends That Will Take Over 2023 — Sh...  \n",
       "3  7 Fashion Trends That Will Take Over 2023 — Sh...  \n",
       "4  7 Fashion Trends That Will Take Over 2023 — Sh...  "
      ],
      "text/html": [
       "<div>\n",
       "<style scoped>\n",
       "    .dataframe tbody tr th:only-of-type {\n",
       "        vertical-align: middle;\n",
       "    }\n",
       "\n",
       "    .dataframe tbody tr th {\n",
       "        vertical-align: top;\n",
       "    }\n",
       "\n",
       "    .dataframe thead th {\n",
       "        text-align: right;\n",
       "    }\n",
       "</style>\n",
       "<table border=\"1\" class=\"dataframe\">\n",
       "  <thead>\n",
       "    <tr style=\"text-align: right;\">\n",
       "      <th></th>\n",
       "      <th>URL</th>\n",
       "      <th>Trends</th>\n",
       "      <th>Source</th>\n",
       "    </tr>\n",
       "  </thead>\n",
       "  <tbody>\n",
       "    <tr>\n",
       "      <th>0</th>\n",
       "      <td>https://www.refinery29.com/en-us/fashion-trend...</td>\n",
       "      <td>2023 Fashion Trend: Red. Glossy red hues took ...</td>\n",
       "      <td>7 Fashion Trends That Will Take Over 2023 — Sh...</td>\n",
       "    </tr>\n",
       "    <tr>\n",
       "      <th>1</th>\n",
       "      <td>https://www.refinery29.com/en-us/fashion-trend...</td>\n",
       "      <td>2023 Fashion Trend: Cargo Pants. Utilitarian w...</td>\n",
       "      <td>7 Fashion Trends That Will Take Over 2023 — Sh...</td>\n",
       "    </tr>\n",
       "    <tr>\n",
       "      <th>2</th>\n",
       "      <td>https://www.refinery29.com/en-us/fashion-trend...</td>\n",
       "      <td>2023 Fashion Trend: Sheer Clothing. \"Bare it a...</td>\n",
       "      <td>7 Fashion Trends That Will Take Over 2023 — Sh...</td>\n",
       "    </tr>\n",
       "    <tr>\n",
       "      <th>3</th>\n",
       "      <td>https://www.refinery29.com/en-us/fashion-trend...</td>\n",
       "      <td>2023 Fashion Trend: Denim Reimagined. From dou...</td>\n",
       "      <td>7 Fashion Trends That Will Take Over 2023 — Sh...</td>\n",
       "    </tr>\n",
       "    <tr>\n",
       "      <th>4</th>\n",
       "      <td>https://www.refinery29.com/en-us/fashion-trend...</td>\n",
       "      <td>2023 Fashion Trend: Shine For The Daytime. The...</td>\n",
       "      <td>7 Fashion Trends That Will Take Over 2023 — Sh...</td>\n",
       "    </tr>\n",
       "  </tbody>\n",
       "</table>\n",
       "</div>"
      ]
     },
     "execution_count": 24,
     "metadata": {},
     "output_type": "execute_result"
    }
   ],
   "execution_count": 24
  },
  {
   "metadata": {
    "ExecuteTime": {
     "end_time": "2025-03-09T18:40:04.775899Z",
     "start_time": "2025-03-09T18:40:04.769113Z"
    }
   },
   "cell_type": "code",
   "source": [
    "df['URL_processed'] = df['URL'].str.split('/').str[2]\n",
    "df[['URL_processed']].tail(3)"
   ],
   "id": "f2dfa881a7f885b2",
   "outputs": [
    {
     "data": {
      "text/plain": [
       "          URL_processed\n",
       "79  www.whowhatwear.com\n",
       "80  www.whowhatwear.com\n",
       "81  www.whowhatwear.com"
      ],
      "text/html": [
       "<div>\n",
       "<style scoped>\n",
       "    .dataframe tbody tr th:only-of-type {\n",
       "        vertical-align: middle;\n",
       "    }\n",
       "\n",
       "    .dataframe tbody tr th {\n",
       "        vertical-align: top;\n",
       "    }\n",
       "\n",
       "    .dataframe thead th {\n",
       "        text-align: right;\n",
       "    }\n",
       "</style>\n",
       "<table border=\"1\" class=\"dataframe\">\n",
       "  <thead>\n",
       "    <tr style=\"text-align: right;\">\n",
       "      <th></th>\n",
       "      <th>URL_processed</th>\n",
       "    </tr>\n",
       "  </thead>\n",
       "  <tbody>\n",
       "    <tr>\n",
       "      <th>79</th>\n",
       "      <td>www.whowhatwear.com</td>\n",
       "    </tr>\n",
       "    <tr>\n",
       "      <th>80</th>\n",
       "      <td>www.whowhatwear.com</td>\n",
       "    </tr>\n",
       "    <tr>\n",
       "      <th>81</th>\n",
       "      <td>www.whowhatwear.com</td>\n",
       "    </tr>\n",
       "  </tbody>\n",
       "</table>\n",
       "</div>"
      ]
     },
     "execution_count": 29,
     "metadata": {},
     "output_type": "execute_result"
    }
   ],
   "execution_count": 29
  },
  {
   "metadata": {
    "ExecuteTime": {
     "end_time": "2025-03-09T18:45:56.264253Z",
     "start_time": "2025-03-09T18:45:56.255774Z"
    }
   },
   "cell_type": "code",
   "source": "df[['URL_processed','Source', 'Trends']].head()",
   "id": "ca556759094891a5",
   "outputs": [
    {
     "data": {
      "text/plain": [
       "        URL_processed                                             Source  \\\n",
       "0  www.refinery29.com  7 Fashion Trends That Will Take Over 2023 — Sh...   \n",
       "1  www.refinery29.com  7 Fashion Trends That Will Take Over 2023 — Sh...   \n",
       "2  www.refinery29.com  7 Fashion Trends That Will Take Over 2023 — Sh...   \n",
       "3  www.refinery29.com  7 Fashion Trends That Will Take Over 2023 — Sh...   \n",
       "4  www.refinery29.com  7 Fashion Trends That Will Take Over 2023 — Sh...   \n",
       "\n",
       "                                              Trends  \n",
       "0  2023 Fashion Trend: Red. Glossy red hues took ...  \n",
       "1  2023 Fashion Trend: Cargo Pants. Utilitarian w...  \n",
       "2  2023 Fashion Trend: Sheer Clothing. \"Bare it a...  \n",
       "3  2023 Fashion Trend: Denim Reimagined. From dou...  \n",
       "4  2023 Fashion Trend: Shine For The Daytime. The...  "
      ],
      "text/html": [
       "<div>\n",
       "<style scoped>\n",
       "    .dataframe tbody tr th:only-of-type {\n",
       "        vertical-align: middle;\n",
       "    }\n",
       "\n",
       "    .dataframe tbody tr th {\n",
       "        vertical-align: top;\n",
       "    }\n",
       "\n",
       "    .dataframe thead th {\n",
       "        text-align: right;\n",
       "    }\n",
       "</style>\n",
       "<table border=\"1\" class=\"dataframe\">\n",
       "  <thead>\n",
       "    <tr style=\"text-align: right;\">\n",
       "      <th></th>\n",
       "      <th>URL_processed</th>\n",
       "      <th>Source</th>\n",
       "      <th>Trends</th>\n",
       "    </tr>\n",
       "  </thead>\n",
       "  <tbody>\n",
       "    <tr>\n",
       "      <th>0</th>\n",
       "      <td>www.refinery29.com</td>\n",
       "      <td>7 Fashion Trends That Will Take Over 2023 — Sh...</td>\n",
       "      <td>2023 Fashion Trend: Red. Glossy red hues took ...</td>\n",
       "    </tr>\n",
       "    <tr>\n",
       "      <th>1</th>\n",
       "      <td>www.refinery29.com</td>\n",
       "      <td>7 Fashion Trends That Will Take Over 2023 — Sh...</td>\n",
       "      <td>2023 Fashion Trend: Cargo Pants. Utilitarian w...</td>\n",
       "    </tr>\n",
       "    <tr>\n",
       "      <th>2</th>\n",
       "      <td>www.refinery29.com</td>\n",
       "      <td>7 Fashion Trends That Will Take Over 2023 — Sh...</td>\n",
       "      <td>2023 Fashion Trend: Sheer Clothing. \"Bare it a...</td>\n",
       "    </tr>\n",
       "    <tr>\n",
       "      <th>3</th>\n",
       "      <td>www.refinery29.com</td>\n",
       "      <td>7 Fashion Trends That Will Take Over 2023 — Sh...</td>\n",
       "      <td>2023 Fashion Trend: Denim Reimagined. From dou...</td>\n",
       "    </tr>\n",
       "    <tr>\n",
       "      <th>4</th>\n",
       "      <td>www.refinery29.com</td>\n",
       "      <td>7 Fashion Trends That Will Take Over 2023 — Sh...</td>\n",
       "      <td>2023 Fashion Trend: Shine For The Daytime. The...</td>\n",
       "    </tr>\n",
       "  </tbody>\n",
       "</table>\n",
       "</div>"
      ]
     },
     "execution_count": 31,
     "metadata": {},
     "output_type": "execute_result"
    }
   ],
   "execution_count": 31
  },
  {
   "metadata": {},
   "cell_type": "markdown",
   "source": "Creating a 'text' feature. This dataframe feature includes all the information needed to be used later in a custom RAG-style chatbot.",
   "id": "395895f4bb690406"
  },
  {
   "metadata": {
    "ExecuteTime": {
     "end_time": "2025-03-09T19:01:09.542880Z",
     "start_time": "2025-03-09T19:01:09.536567Z"
    }
   },
   "cell_type": "code",
   "source": [
    "# Using string format method\n",
    "text_chunk = \\\n",
    "\"\"\"Title: {source}\n",
    "\n",
    "{trends}\n",
    "\n",
    "Source URL: {url}\n",
    "\"\"\"\n",
    "\n",
    "df['text'] = df.apply(lambda row: text_chunk.format(\n",
    "    source=row['Source'],\n",
    "    url=row['URL_processed'],\n",
    "    trends=row['Trends']), axis=1)\n",
    "\n",
    "print(df[['text']].iloc[0].values[0])"
   ],
   "id": "685193e469e10f7d",
   "outputs": [
    {
     "name": "stdout",
     "output_type": "stream",
     "text": [
      "Title: 7 Fashion Trends That Will Take Over 2023 — Shop Them Now\n",
      "\n",
      "2023 Fashion Trend: Red. Glossy red hues took over the Fall 2023 runways ranging from Sandy Liang and PatBo to Tory Burch and Wiederhoeft. Think: Juicy reds with vibrant orange undertones that would look just as good in head-to-toe looks (see: a pantsuit) as accent accessory pieces (shoes, handbags, jewelry).\n",
      "\n",
      "Source URL: www.refinery29.com\n",
      "\n"
     ]
    }
   ],
   "execution_count": 44
  },
  {
   "metadata": {},
   "cell_type": "markdown",
   "source": "Generating Embeddings from the feature 'text'",
   "id": "21d6fc7ab85f2914"
  },
  {
   "metadata": {
    "ExecuteTime": {
     "end_time": "2025-03-09T19:12:22.837423Z",
     "start_time": "2025-03-09T19:10:49.518043Z"
    }
   },
   "cell_type": "code",
   "source": [
    "final_df, cost=\\\n",
    "create_embeddings_batch(\n",
    "    client=openai_client,\n",
    "    deployment_name=emb_name,\n",
    "    batch_size=10,\n",
    "    df=df,\n",
    "    chunk_column='text'\n",
    ")\n",
    "print(f'Total Cost(eur): {cost}')"
   ],
   "id": "a4c2f4d16c963c1e",
   "outputs": [
    {
     "name": "stdout",
     "output_type": "stream",
     "text": [
      "Total Cost(eur): 0.0013160000000000001\n"
     ]
    }
   ],
   "execution_count": 49
  },
  {
   "metadata": {
    "ExecuteTime": {
     "end_time": "2025-03-09T19:12:48.392984Z",
     "start_time": "2025-03-09T19:12:48.384779Z"
    }
   },
   "cell_type": "code",
   "source": "final_df[['text','embeddings']].head(2)",
   "id": "4e734192e04fb700",
   "outputs": [
    {
     "data": {
      "text/plain": [
       "                                                text  \\\n",
       "0  Title: 7 Fashion Trends That Will Take Over 20...   \n",
       "1  Title: 7 Fashion Trends That Will Take Over 20...   \n",
       "\n",
       "                                          embeddings  \n",
       "0  [-0.0008604738395661116, 0.02634955383837223, ...  \n",
       "1  [0.01805400848388672, 0.049275610595941544, 0....  "
      ],
      "text/html": [
       "<div>\n",
       "<style scoped>\n",
       "    .dataframe tbody tr th:only-of-type {\n",
       "        vertical-align: middle;\n",
       "    }\n",
       "\n",
       "    .dataframe tbody tr th {\n",
       "        vertical-align: top;\n",
       "    }\n",
       "\n",
       "    .dataframe thead th {\n",
       "        text-align: right;\n",
       "    }\n",
       "</style>\n",
       "<table border=\"1\" class=\"dataframe\">\n",
       "  <thead>\n",
       "    <tr style=\"text-align: right;\">\n",
       "      <th></th>\n",
       "      <th>text</th>\n",
       "      <th>embeddings</th>\n",
       "    </tr>\n",
       "  </thead>\n",
       "  <tbody>\n",
       "    <tr>\n",
       "      <th>0</th>\n",
       "      <td>Title: 7 Fashion Trends That Will Take Over 20...</td>\n",
       "      <td>[-0.0008604738395661116, 0.02634955383837223, ...</td>\n",
       "    </tr>\n",
       "    <tr>\n",
       "      <th>1</th>\n",
       "      <td>Title: 7 Fashion Trends That Will Take Over 20...</td>\n",
       "      <td>[0.01805400848388672, 0.049275610595941544, 0....</td>\n",
       "    </tr>\n",
       "  </tbody>\n",
       "</table>\n",
       "</div>"
      ]
     },
     "execution_count": 53,
     "metadata": {},
     "output_type": "execute_result"
    }
   ],
   "execution_count": 53
  },
  {
   "metadata": {},
   "cell_type": "markdown",
   "source": "Saving the final dataframe with only two features: the text chunks and their embeddings",
   "id": "e67d2716bb51ca48"
  },
  {
   "metadata": {
    "ExecuteTime": {
     "end_time": "2025-03-09T19:16:13.096734Z",
     "start_time": "2025-03-09T19:16:12.918818Z"
    }
   },
   "cell_type": "code",
   "source": "final_df[['text','embeddings']].to_csv(proj_dir / \"data\" / \"2023_fashion_trends_embeddings.csv\", index=False)",
   "id": "723d8e0558b6d671",
   "outputs": [],
   "execution_count": 54
  }
 ],
 "metadata": {
  "kernelspec": {
   "display_name": "Python 3",
   "language": "python",
   "name": "python3"
  },
  "language_info": {
   "codemirror_mode": {
    "name": "ipython",
    "version": 2
   },
   "file_extension": ".py",
   "mimetype": "text/x-python",
   "name": "python",
   "nbconvert_exporter": "python",
   "pygments_lexer": "ipython2",
   "version": "2.7.6"
  }
 },
 "nbformat": 4,
 "nbformat_minor": 5
}
